{
 "cells": [
  {
   "cell_type": "code",
   "execution_count": 1,
   "metadata": {},
   "outputs": [],
   "source": [
    "import pandas as pd\n",
    "import numpy as np"
   ]
  },
  {
   "cell_type": "code",
   "execution_count": 2,
   "metadata": {},
   "outputs": [
    {
     "name": "stdout",
     "output_type": "stream",
     "text": [
      "(1472, 1)\n",
      "(1472, 1)\n",
      "(192, 1)\n",
      "(192, 1)\n"
     ]
    }
   ],
   "source": [
    "#Reading in data and looking at the number of rows and columns using shape \n",
    "x_train = pd.read_csv('x_train.csv')\n",
    "y_train = pd.read_csv('y_train.csv')\n",
    "x_test = pd.read_csv('x_test.csv')\n",
    "y_test = pd.read_csv('y_test.csv')\n",
    "print(x_train.shape)\n",
    "print(y_train.shape)\n",
    "print(x_test.shape)\n",
    "print(y_test.shape)"
   ]
  },
  {
   "cell_type": "code",
   "execution_count": 3,
   "metadata": {},
   "outputs": [
    {
     "data": {
      "text/html": [
       "<div>\n",
       "<style scoped>\n",
       "    .dataframe tbody tr th:only-of-type {\n",
       "        vertical-align: middle;\n",
       "    }\n",
       "\n",
       "    .dataframe tbody tr th {\n",
       "        vertical-align: top;\n",
       "    }\n",
       "\n",
       "    .dataframe thead th {\n",
       "        text-align: right;\n",
       "    }\n",
       "</style>\n",
       "<table border=\"1\" class=\"dataframe\">\n",
       "  <thead>\n",
       "    <tr style=\"text-align: right;\">\n",
       "      <th></th>\n",
       "      <th>Pos/Neg_nextday_Change</th>\n",
       "    </tr>\n",
       "  </thead>\n",
       "  <tbody>\n",
       "    <tr>\n",
       "      <th>0</th>\n",
       "      <td>0</td>\n",
       "    </tr>\n",
       "    <tr>\n",
       "      <th>1</th>\n",
       "      <td>1</td>\n",
       "    </tr>\n",
       "  </tbody>\n",
       "</table>\n",
       "</div>"
      ],
      "text/plain": [
       "   Pos/Neg_nextday_Change\n",
       "0                       0\n",
       "1                       1"
      ]
     },
     "execution_count": 3,
     "metadata": {},
     "output_type": "execute_result"
    }
   ],
   "source": [
    "y_train.head(2)"
   ]
  },
  {
   "cell_type": "code",
   "execution_count": 4,
   "metadata": {},
   "outputs": [
    {
     "data": {
      "text/html": [
       "<div>\n",
       "<style scoped>\n",
       "    .dataframe tbody tr th:only-of-type {\n",
       "        vertical-align: middle;\n",
       "    }\n",
       "\n",
       "    .dataframe tbody tr th {\n",
       "        vertical-align: top;\n",
       "    }\n",
       "\n",
       "    .dataframe thead th {\n",
       "        text-align: right;\n",
       "    }\n",
       "</style>\n",
       "<table border=\"1\" class=\"dataframe\">\n",
       "  <thead>\n",
       "    <tr style=\"text-align: right;\">\n",
       "      <th></th>\n",
       "      <th>Top_Headlines_words</th>\n",
       "    </tr>\n",
       "  </thead>\n",
       "  <tbody>\n",
       "    <tr>\n",
       "      <th>0</th>\n",
       "      <td>apple google poaching settlement appears heade...</td>\n",
       "    </tr>\n",
       "    <tr>\n",
       "      <th>1</th>\n",
       "      <td>apple exploring settlement electric car batter...</td>\n",
       "    </tr>\n",
       "  </tbody>\n",
       "</table>\n",
       "</div>"
      ],
      "text/plain": [
       "                                 Top_Headlines_words\n",
       "0  apple google poaching settlement appears heade...\n",
       "1  apple exploring settlement electric car batter..."
      ]
     },
     "execution_count": 4,
     "metadata": {},
     "output_type": "execute_result"
    }
   ],
   "source": [
    "x_train.head(2)"
   ]
  },
  {
   "cell_type": "code",
   "execution_count": 5,
   "metadata": {},
   "outputs": [],
   "source": [
    "from sklearn.feature_extraction.text import TfidfVectorizer"
   ]
  },
  {
   "cell_type": "code",
   "execution_count": 6,
   "metadata": {},
   "outputs": [
    {
     "data": {
      "text/plain": [
       "['apple google poaching settlement appears headed approval exclusive obama sharply criticizes china plan new technology rule nasdaq clear 5000 barrier dow hit recordhigh monday nasdaq hit 5000 milestone first time since 2000 samsung unveils sleek new galaxy phone battle apple',\n",
       " 'apple exploring settlement electric car battery maker apple plan fix next week newly uncovered freak security bug apple edge samsung global smartphone sale gartner bmw ceo see challenge mounting successor exclusive huawei plan big push sell phone wearable device u sharp planning tap bank second bailout three year sharp planning tap bank second bailout three year',\n",
       " 'hbo talk apple google launch streaming service report report hbo apple near partnership video streaming service judge wary apple claim phone patent harm samsung']"
      ]
     },
     "execution_count": 6,
     "metadata": {},
     "output_type": "execute_result"
    }
   ],
   "source": [
    "# Converting the x_train and x_test dataframe to list data structure. As TfidfVectorizer doesn't work with dataframe. \n",
    "Headlines_Train = x_train['Top_Headlines_words'].tolist()\n",
    "Headlines_Test = x_test['Top_Headlines_words'].tolist()\n",
    "Headlines_Train[0:3]"
   ]
  },
  {
   "cell_type": "code",
   "execution_count": 7,
   "metadata": {},
   "outputs": [],
   "source": [
    "# Setting up the parameters for TfidfVectorizer\n",
    "tfidf_vec = TfidfVectorizer(max_features = None, max_df = 0.8, min_df = 5, ngram_range = (1,3))"
   ]
  },
  {
   "cell_type": "code",
   "execution_count": 8,
   "metadata": {},
   "outputs": [
    {
     "data": {
      "text/plain": [
       "TfidfVectorizer(max_df=0.8, min_df=5, ngram_range=(1, 3))"
      ]
     },
     "execution_count": 8,
     "metadata": {},
     "output_type": "execute_result"
    }
   ],
   "source": [
    "# Fitting the TfidfVectorizer on Train Data\n",
    "tfidf_vec.fit(Headlines_Train)"
   ]
  },
  {
   "cell_type": "code",
   "execution_count": 9,
   "metadata": {},
   "outputs": [],
   "source": [
    "# Transforming Train Fit TfidfVectorizer on on both and x_train and x_test Data.\n",
    "train_set = tfidf_vec.transform(Headlines_Train)\n",
    "test_set = tfidf_vec.transform(Headlines_Test)"
   ]
  },
  {
   "cell_type": "markdown",
   "metadata": {},
   "source": [
    "# Models:"
   ]
  },
  {
   "cell_type": "markdown",
   "metadata": {},
   "source": [
    "## 1. Random Forest Classifier (RFC)"
   ]
  },
  {
   "cell_type": "code",
   "execution_count": 10,
   "metadata": {},
   "outputs": [],
   "source": [
    "from sklearn.ensemble import RandomForestClassifier"
   ]
  },
  {
   "cell_type": "code",
   "execution_count": 11,
   "metadata": {},
   "outputs": [
    {
     "data": {
      "text/plain": [
       "<1472x3748 sparse matrix of type '<class 'numpy.float64'>'\n",
       "\twith 84436 stored elements in Compressed Sparse Row format>"
      ]
     },
     "execution_count": 11,
     "metadata": {},
     "output_type": "execute_result"
    }
   ],
   "source": [
    "# Matrix of 1472 by 3748 is made using TF-IDF\n",
    "train_set"
   ]
  },
  {
   "cell_type": "code",
   "execution_count": 12,
   "metadata": {},
   "outputs": [
    {
     "data": {
      "text/plain": [
       "RandomForestClassifier(max_depth=10, max_features='sqrt', min_samples_leaf=5,\n",
       "                       random_state=42)"
      ]
     },
     "execution_count": 12,
     "metadata": {},
     "output_type": "execute_result"
    }
   ],
   "source": [
    "# Fitting the RandomForest Regression model on Train Data.\n",
    "RFC = RandomForestClassifier(n_estimators = 100, min_samples_split = 2, min_samples_leaf = 5, max_features = 'sqrt', max_depth = 10, random_state = 42)\n",
    "RFC.fit(train_set, y_train['Pos/Neg_nextday_Change'])"
   ]
  },
  {
   "cell_type": "code",
   "execution_count": 13,
   "metadata": {},
   "outputs": [
    {
     "name": "stdout",
     "output_type": "stream",
     "text": [
      "Random Forest Classifier\n",
      "R-Sqaure\n",
      " \n",
      "R-Sqaure on Train Set = 0.68\n",
      " \n",
      "R-Sqaure on Test Set = 0.61\n",
      " \n"
     ]
    }
   ],
   "source": [
    "# R Sqaure of model on both Train and Test sets.\n",
    "print(\"Random Forest Classifier\")\n",
    "print(\"R-Sqaure\")\n",
    "print(\" \")\n",
    "print(\"R-Sqaure on Train Set = \"+str(np.round(RFC.score(train_set, y_train), 2)))\n",
    "print(\" \")\n",
    "print(\"R-Sqaure on Test Set = \"+str(np.round(RFC.score(test_set, y_test), 2)))\n",
    "print(\" \")"
   ]
  },
  {
   "cell_type": "code",
   "execution_count": 14,
   "metadata": {},
   "outputs": [],
   "source": [
    "newz = 'wikileaks say release file cia cyber spying tool'"
   ]
  },
  {
   "cell_type": "code",
   "execution_count": 15,
   "metadata": {},
   "outputs": [
    {
     "data": {
      "text/plain": [
       "array([1], dtype=int64)"
      ]
     },
     "execution_count": 15,
     "metadata": {},
     "output_type": "execute_result"
    }
   ],
   "source": [
    "pred = RFC.predict(tfidf_vec.transform([newz]))\n",
    "pred"
   ]
  },
  {
   "cell_type": "code",
   "execution_count": null,
   "metadata": {},
   "outputs": [],
   "source": [
    "from sklearn.tree import DecisionTreeClassifier\n",
    "clf_model = DecisionTreeClassifier(criterion=\"gini\", random_state=45,max_depth=10, min_samples_leaf=2)   \n",
    "clf_model.fit(X_train_scaled,Y_train)"
   ]
  },
  {
   "cell_type": "code",
   "execution_count": 55,
   "metadata": {},
   "outputs": [
    {
     "data": {
      "text/plain": [
       "mappingproxy({'__config__': __main__.Config,\n",
       "              '__fields__': {'Newz_Headline': ModelField(name='Newz_Headline', type=str, required=True)},\n",
       "              '__exclude_fields__': None,\n",
       "              '__include_fields__': None,\n",
       "              '__validators__': {},\n",
       "              '__pre_root_validators__': [],\n",
       "              '__post_root_validators__': [],\n",
       "              '__schema_cache__': {},\n",
       "              '__json_encoder__': <staticmethod at 0x11b4cdec2b0>,\n",
       "              '__custom_root_type__': False,\n",
       "              '__private_attributes__': {},\n",
       "              '__slots__': set(),\n",
       "              '__hash__': None,\n",
       "              '__class_vars__': set(),\n",
       "              '__module__': '__main__',\n",
       "              '__annotations__': {'Newz_Headline': str},\n",
       "              '__doc__': None,\n",
       "              '__abstractmethods__': frozenset(),\n",
       "              '_abc_impl': <_abc._abc_data at 0x11b4cdfcf80>,\n",
       "              '__signature__': <pydantic.utils.ClassAttribute at 0x11b4cdecd00>})"
      ]
     },
     "execution_count": 55,
     "metadata": {},
     "output_type": "execute_result"
    }
   ],
   "source": [
    "Newz_Senti.__dict__"
   ]
  },
  {
   "cell_type": "markdown",
   "metadata": {},
   "source": [
    "#### RFC is overfitting"
   ]
  },
  {
   "cell_type": "code",
   "execution_count": 93,
   "metadata": {},
   "outputs": [],
   "source": [
    "# Checking Accuracy\n",
    "from sklearn.metrics import classification_report, confusion_matrix, accuracy_score"
   ]
  },
  {
   "cell_type": "code",
   "execution_count": 29,
   "metadata": {},
   "outputs": [],
   "source": [
    "predictions_rfc = RFC.predict(test_set)"
   ]
  },
  {
   "cell_type": "code",
   "execution_count": 30,
   "metadata": {},
   "outputs": [
    {
     "name": "stdout",
     "output_type": "stream",
     "text": [
      "[[ 13  73]\n",
      " [  1 105]]\n"
     ]
    }
   ],
   "source": [
    "matrix = confusion_matrix(y_test, predictions_rfc)\n",
    "print(matrix)"
   ]
  },
  {
   "cell_type": "code",
   "execution_count": 31,
   "metadata": {},
   "outputs": [
    {
     "name": "stdout",
     "output_type": "stream",
     "text": [
      "0.61\n"
     ]
    }
   ],
   "source": [
    "acc_score = accuracy_score(y_test, predictions_rfc)\n",
    "print(np.round(acc_score, 2))"
   ]
  },
  {
   "cell_type": "code",
   "execution_count": 32,
   "metadata": {},
   "outputs": [
    {
     "name": "stdout",
     "output_type": "stream",
     "text": [
      "              precision    recall  f1-score   support\n",
      "\n",
      "           0       0.93      0.15      0.26        86\n",
      "           1       0.59      0.99      0.74       106\n",
      "\n",
      "    accuracy                           0.61       192\n",
      "   macro avg       0.76      0.57      0.50       192\n",
      "weighted avg       0.74      0.61      0.52       192\n",
      "\n"
     ]
    }
   ],
   "source": [
    "report = classification_report(y_test, predictions_rfc)\n",
    "print(report)"
   ]
  },
  {
   "cell_type": "markdown",
   "metadata": {},
   "source": [
    "#### RFC Accuracy is 59%"
   ]
  },
  {
   "cell_type": "markdown",
   "metadata": {},
   "source": [
    "## 2. Naive Bayes"
   ]
  },
  {
   "cell_type": "code",
   "execution_count": 88,
   "metadata": {},
   "outputs": [],
   "source": [
    "from sklearn.naive_bayes import MultinomialNB"
   ]
  },
  {
   "cell_type": "code",
   "execution_count": 89,
   "metadata": {},
   "outputs": [
    {
     "data": {
      "text/plain": [
       "MultinomialNB()"
      ]
     },
     "execution_count": 89,
     "metadata": {},
     "output_type": "execute_result"
    }
   ],
   "source": [
    "MNB = MultinomialNB()\n",
    "MNB.fit(train_set, y_train['Pos/Neg_nextday_Change'])"
   ]
  },
  {
   "cell_type": "code",
   "execution_count": 90,
   "metadata": {},
   "outputs": [
    {
     "name": "stdout",
     "output_type": "stream",
     "text": [
      "Multinomial Naive Bayes\n",
      "R-Sqaure\n",
      " \n",
      "R-Sqaure on Train Set = 0.68\n",
      " \n",
      "R-Sqaure on Test Set = 0.61\n",
      " \n"
     ]
    }
   ],
   "source": [
    "# R Sqaure of model on both Train and Test sets.\n",
    "print(\"Multinomial Naive Bayes\")\n",
    "print(\"R-Sqaure\")\n",
    "print(\" \")\n",
    "print(\"R-Sqaure on Train Set = \"+str(np.round(RFC.score(train_set, y_train), 2)))\n",
    "print(\" \")\n",
    "print(\"R-Sqaure on Test Set = \"+str(np.round(RFC.score(test_set, y_test), 2)))\n",
    "print(\" \")"
   ]
  },
  {
   "cell_type": "code",
   "execution_count": 158,
   "metadata": {},
   "outputs": [],
   "source": [
    "newz = 'ios'"
   ]
  },
  {
   "cell_type": "code",
   "execution_count": 159,
   "metadata": {},
   "outputs": [
    {
     "data": {
      "text/plain": [
       "array([1], dtype=int64)"
      ]
     },
     "execution_count": 159,
     "metadata": {},
     "output_type": "execute_result"
    }
   ],
   "source": [
    "pred = MNB.predict(tfidf_vec.transform([newz]))\n",
    "pred"
   ]
  },
  {
   "cell_type": "code",
   "execution_count": 160,
   "metadata": {},
   "outputs": [
    {
     "data": {
      "text/plain": [
       "array([1], dtype=int64)"
      ]
     },
     "execution_count": 160,
     "metadata": {},
     "output_type": "execute_result"
    }
   ],
   "source": [
    "pred = RFC.predict(tfidf_vec.transform([newz]))\n",
    "pred"
   ]
  },
  {
   "cell_type": "code",
   "execution_count": 91,
   "metadata": {},
   "outputs": [],
   "source": [
    "predictions_mnb = MNB.predict(test_set)"
   ]
  },
  {
   "cell_type": "code",
   "execution_count": 94,
   "metadata": {},
   "outputs": [
    {
     "name": "stdout",
     "output_type": "stream",
     "text": [
      "[[17 69]\n",
      " [ 9 97]]\n"
     ]
    }
   ],
   "source": [
    "matrix = confusion_matrix(y_test, predictions_mnb)\n",
    "print(matrix)"
   ]
  },
  {
   "cell_type": "code",
   "execution_count": 38,
   "metadata": {},
   "outputs": [
    {
     "name": "stdout",
     "output_type": "stream",
     "text": [
      "0.59\n"
     ]
    }
   ],
   "source": [
    "acc_score = accuracy_score(y_test, predictions_mnb)\n",
    "print(np.round(acc_score, 2))"
   ]
  },
  {
   "cell_type": "code",
   "execution_count": 39,
   "metadata": {},
   "outputs": [
    {
     "name": "stdout",
     "output_type": "stream",
     "text": [
      "              precision    recall  f1-score   support\n",
      "\n",
      "           0       0.65      0.20      0.30        86\n",
      "           1       0.58      0.92      0.71       106\n",
      "\n",
      "    accuracy                           0.59       192\n",
      "   macro avg       0.62      0.56      0.51       192\n",
      "weighted avg       0.62      0.59      0.53       192\n",
      "\n"
     ]
    }
   ],
   "source": [
    "report = classification_report(y_test, predictions_mnb)\n",
    "print(report)"
   ]
  },
  {
   "cell_type": "code",
   "execution_count": 40,
   "metadata": {},
   "outputs": [],
   "source": [
    "from sklearn.ensemble import GradientBoostingClassifier"
   ]
  },
  {
   "cell_type": "code",
   "execution_count": 41,
   "metadata": {},
   "outputs": [
    {
     "data": {
      "text/plain": [
       "GradientBoostingClassifier()"
      ]
     },
     "execution_count": 41,
     "metadata": {},
     "output_type": "execute_result"
    }
   ],
   "source": [
    "GBoost = GradientBoostingClassifier()\n",
    "GBoost.fit(train_set, y_train['Pos/Neg_nextday_Change'])"
   ]
  },
  {
   "cell_type": "code",
   "execution_count": 42,
   "metadata": {},
   "outputs": [
    {
     "name": "stdout",
     "output_type": "stream",
     "text": [
      "Multinomial Naive Bayes\n",
      "R-Sqaure\n",
      " \n",
      "R-Sqaure on Train Set = 0.87\n",
      " \n",
      "R-Sqaure on Test Set = 0.56\n",
      " \n"
     ]
    }
   ],
   "source": [
    "# R Sqaure of model on both Train and Test sets.\n",
    "print(\"Multinomial Naive Bayes\")\n",
    "print(\"R-Sqaure\")\n",
    "print(\" \")\n",
    "print(\"R-Sqaure on Train Set = \"+str(np.round(GBoost.score(train_set, y_train), 2)))\n",
    "print(\" \")\n",
    "print(\"R-Sqaure on Test Set = \"+str(np.round(GBoost.score(test_set, y_test), 2)))\n",
    "print(\" \")"
   ]
  },
  {
   "cell_type": "code",
   "execution_count": null,
   "metadata": {},
   "outputs": [],
   "source": []
  }
 ],
 "metadata": {
  "kernelspec": {
   "display_name": "Python 3 (ipykernel)",
   "language": "python",
   "name": "python3"
  },
  "language_info": {
   "codemirror_mode": {
    "name": "ipython",
    "version": 3
   },
   "file_extension": ".py",
   "mimetype": "text/x-python",
   "name": "python",
   "nbconvert_exporter": "python",
   "pygments_lexer": "ipython3",
   "version": "3.9.7"
  }
 },
 "nbformat": 4,
 "nbformat_minor": 4
}
