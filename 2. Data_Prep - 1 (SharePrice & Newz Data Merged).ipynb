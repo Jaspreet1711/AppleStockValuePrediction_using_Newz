{
 "cells": [
  {
   "cell_type": "code",
   "execution_count": 187,
   "id": "d78abd16",
   "metadata": {},
   "outputs": [],
   "source": [
    "import pandas as pd\n",
    "import matplotlib.pyplot as plt\n",
    "import seaborn as sns\n",
    "import numpy as np\n",
    "from pandas import Series\n",
    "#from mpl_toolkits.basemap import Basemap\n",
    "import warnings\n",
    "warnings.filterwarnings('ignore')\n",
    "%matplotlib inline"
   ]
  },
  {
   "cell_type": "code",
   "execution_count": 188,
   "id": "b7ab3100",
   "metadata": {},
   "outputs": [
    {
     "data": {
      "text/plain": [
       "(12974, 4)"
      ]
     },
     "execution_count": 188,
     "metadata": {},
     "output_type": "execute_result"
    }
   ],
   "source": [
    "#Reading in data and looking at the number of rows and columns using shape \n",
    "aapl_newz = pd.read_csv('AAPL_Newz_Data.csv')\n",
    "aapl_newz.shape"
   ]
  },
  {
   "cell_type": "code",
   "execution_count": 189,
   "id": "52830699",
   "metadata": {},
   "outputs": [
    {
     "data": {
      "text/plain": [
       "(10160, 7)"
      ]
     },
     "execution_count": 189,
     "metadata": {},
     "output_type": "execute_result"
    }
   ],
   "source": [
    "aapl_price = pd.read_excel('AAPL_Openclose.xlsx')\n",
    "aapl_price.shape"
   ]
  },
  {
   "cell_type": "code",
   "execution_count": 190,
   "id": "4b590014",
   "metadata": {},
   "outputs": [
    {
     "data": {
      "text/html": [
       "<div>\n",
       "<style scoped>\n",
       "    .dataframe tbody tr th:only-of-type {\n",
       "        vertical-align: middle;\n",
       "    }\n",
       "\n",
       "    .dataframe tbody tr th {\n",
       "        vertical-align: top;\n",
       "    }\n",
       "\n",
       "    .dataframe thead th {\n",
       "        text-align: right;\n",
       "    }\n",
       "</style>\n",
       "<table border=\"1\" class=\"dataframe\">\n",
       "  <thead>\n",
       "    <tr style=\"text-align: right;\">\n",
       "      <th></th>\n",
       "      <th>Date</th>\n",
       "      <th>Open</th>\n",
       "      <th>High</th>\n",
       "      <th>Low</th>\n",
       "      <th>Close</th>\n",
       "      <th>Adj Close</th>\n",
       "      <th>Volume</th>\n",
       "    </tr>\n",
       "  </thead>\n",
       "  <tbody>\n",
       "    <tr>\n",
       "      <th>0</th>\n",
       "      <td>1980-12-12</td>\n",
       "      <td>0.128348</td>\n",
       "      <td>0.128906</td>\n",
       "      <td>0.128348</td>\n",
       "      <td>0.128348</td>\n",
       "      <td>0.100453</td>\n",
       "      <td>469033600</td>\n",
       "    </tr>\n",
       "    <tr>\n",
       "      <th>1</th>\n",
       "      <td>1980-12-15</td>\n",
       "      <td>0.122210</td>\n",
       "      <td>0.122210</td>\n",
       "      <td>0.121652</td>\n",
       "      <td>0.121652</td>\n",
       "      <td>0.095213</td>\n",
       "      <td>175884800</td>\n",
       "    </tr>\n",
       "    <tr>\n",
       "      <th>2</th>\n",
       "      <td>1980-12-16</td>\n",
       "      <td>0.113281</td>\n",
       "      <td>0.113281</td>\n",
       "      <td>0.112723</td>\n",
       "      <td>0.112723</td>\n",
       "      <td>0.088224</td>\n",
       "      <td>105728000</td>\n",
       "    </tr>\n",
       "    <tr>\n",
       "      <th>3</th>\n",
       "      <td>1980-12-17</td>\n",
       "      <td>0.115513</td>\n",
       "      <td>0.116071</td>\n",
       "      <td>0.115513</td>\n",
       "      <td>0.115513</td>\n",
       "      <td>0.090408</td>\n",
       "      <td>86441600</td>\n",
       "    </tr>\n",
       "    <tr>\n",
       "      <th>4</th>\n",
       "      <td>1980-12-18</td>\n",
       "      <td>0.118862</td>\n",
       "      <td>0.119420</td>\n",
       "      <td>0.118862</td>\n",
       "      <td>0.118862</td>\n",
       "      <td>0.093029</td>\n",
       "      <td>73449600</td>\n",
       "    </tr>\n",
       "  </tbody>\n",
       "</table>\n",
       "</div>"
      ],
      "text/plain": [
       "        Date      Open      High       Low     Close  Adj Close     Volume\n",
       "0 1980-12-12  0.128348  0.128906  0.128348  0.128348   0.100453  469033600\n",
       "1 1980-12-15  0.122210  0.122210  0.121652  0.121652   0.095213  175884800\n",
       "2 1980-12-16  0.113281  0.113281  0.112723  0.112723   0.088224  105728000\n",
       "3 1980-12-17  0.115513  0.116071  0.115513  0.115513   0.090408   86441600\n",
       "4 1980-12-18  0.118862  0.119420  0.118862  0.118862   0.093029   73449600"
      ]
     },
     "execution_count": 190,
     "metadata": {},
     "output_type": "execute_result"
    }
   ],
   "source": [
    "aapl_price.head()"
   ]
  },
  {
   "cell_type": "code",
   "execution_count": 191,
   "id": "aba77797",
   "metadata": {},
   "outputs": [
    {
     "data": {
      "text/html": [
       "<div>\n",
       "<style scoped>\n",
       "    .dataframe tbody tr th:only-of-type {\n",
       "        vertical-align: middle;\n",
       "    }\n",
       "\n",
       "    .dataframe tbody tr th {\n",
       "        vertical-align: top;\n",
       "    }\n",
       "\n",
       "    .dataframe thead th {\n",
       "        text-align: right;\n",
       "    }\n",
       "</style>\n",
       "<table border=\"1\" class=\"dataframe\">\n",
       "  <thead>\n",
       "    <tr style=\"text-align: right;\">\n",
       "      <th></th>\n",
       "      <th>Date</th>\n",
       "      <th>Open</th>\n",
       "      <th>High</th>\n",
       "      <th>Low</th>\n",
       "      <th>Close</th>\n",
       "      <th>Adj Close</th>\n",
       "      <th>Volume</th>\n",
       "    </tr>\n",
       "  </thead>\n",
       "  <tbody>\n",
       "    <tr>\n",
       "      <th>8589</th>\n",
       "      <td>2015-01-02</td>\n",
       "      <td>27.847500</td>\n",
       "      <td>27.860001</td>\n",
       "      <td>26.837500</td>\n",
       "      <td>27.332500</td>\n",
       "      <td>24.745998</td>\n",
       "      <td>212818400</td>\n",
       "    </tr>\n",
       "    <tr>\n",
       "      <th>8590</th>\n",
       "      <td>2015-01-05</td>\n",
       "      <td>27.072500</td>\n",
       "      <td>27.162500</td>\n",
       "      <td>26.352501</td>\n",
       "      <td>26.562500</td>\n",
       "      <td>24.048864</td>\n",
       "      <td>257142000</td>\n",
       "    </tr>\n",
       "    <tr>\n",
       "      <th>8591</th>\n",
       "      <td>2015-01-06</td>\n",
       "      <td>26.635000</td>\n",
       "      <td>26.857500</td>\n",
       "      <td>26.157499</td>\n",
       "      <td>26.565001</td>\n",
       "      <td>24.051126</td>\n",
       "      <td>263188400</td>\n",
       "    </tr>\n",
       "    <tr>\n",
       "      <th>8592</th>\n",
       "      <td>2015-01-07</td>\n",
       "      <td>26.799999</td>\n",
       "      <td>27.049999</td>\n",
       "      <td>26.674999</td>\n",
       "      <td>26.937500</td>\n",
       "      <td>24.388374</td>\n",
       "      <td>160423600</td>\n",
       "    </tr>\n",
       "    <tr>\n",
       "      <th>8593</th>\n",
       "      <td>2015-01-08</td>\n",
       "      <td>27.307501</td>\n",
       "      <td>28.037500</td>\n",
       "      <td>27.174999</td>\n",
       "      <td>27.972500</td>\n",
       "      <td>25.325430</td>\n",
       "      <td>237458000</td>\n",
       "    </tr>\n",
       "  </tbody>\n",
       "</table>\n",
       "</div>"
      ],
      "text/plain": [
       "           Date       Open       High        Low      Close  Adj Close  \\\n",
       "8589 2015-01-02  27.847500  27.860001  26.837500  27.332500  24.745998   \n",
       "8590 2015-01-05  27.072500  27.162500  26.352501  26.562500  24.048864   \n",
       "8591 2015-01-06  26.635000  26.857500  26.157499  26.565001  24.051126   \n",
       "8592 2015-01-07  26.799999  27.049999  26.674999  26.937500  24.388374   \n",
       "8593 2015-01-08  27.307501  28.037500  27.174999  27.972500  25.325430   \n",
       "\n",
       "         Volume  \n",
       "8589  212818400  \n",
       "8590  257142000  \n",
       "8591  263188400  \n",
       "8592  160423600  \n",
       "8593  237458000  "
      ]
     },
     "execution_count": 191,
     "metadata": {},
     "output_type": "execute_result"
    }
   ],
   "source": [
    "#removing data less than 1st Jan 2015\n",
    "aapl_price = aapl_price.drop(aapl_price.index[aapl_price['Date'] <= \"2015-01-01\"])\n",
    "aapl_price.head()"
   ]
  },
  {
   "cell_type": "code",
   "execution_count": 192,
   "id": "3808de0c",
   "metadata": {},
   "outputs": [
    {
     "data": {
      "text/plain": [
       "(1571, 7)"
      ]
     },
     "execution_count": 192,
     "metadata": {},
     "output_type": "execute_result"
    }
   ],
   "source": [
    "aapl_price.shape"
   ]
  },
  {
   "cell_type": "code",
   "execution_count": 193,
   "id": "974234f1",
   "metadata": {},
   "outputs": [],
   "source": [
    "def diff_nxt_row(df, col, diff_col):\n",
    "    ls = df[col].tolist()\n",
    "    n = len(ls)\n",
    "    diff_ls = []\n",
    "    i = -1\n",
    "    for row in range(0, n):\n",
    "        i += 1\n",
    "        if i < (n-1):\n",
    "            diff_ls.append(ls[i+1] - ls[i])\n",
    "        else:\n",
    "            diff_ls.append(None)\n",
    "    df[diff_col] = diff_ls     "
   ]
  },
  {
   "cell_type": "code",
   "execution_count": 194,
   "id": "23ac7c70",
   "metadata": {},
   "outputs": [],
   "source": [
    "diff_nxt_row(aapl_price, \"Open\", \"fut_change_stock_price\")\n",
    "aapl_price = aapl_price.dropna()"
   ]
  },
  {
   "cell_type": "code",
   "execution_count": 195,
   "id": "1784f3ff",
   "metadata": {},
   "outputs": [],
   "source": [
    "aapl_price[\"Pos/Neg_fut_Change\"] = aapl_price[\"fut_change_stock_price\"].apply(lambda x: 1 if x>0 else 0)"
   ]
  },
  {
   "cell_type": "code",
   "execution_count": 196,
   "id": "c364e77a",
   "metadata": {},
   "outputs": [
    {
     "data": {
      "text/html": [
       "<div>\n",
       "<style scoped>\n",
       "    .dataframe tbody tr th:only-of-type {\n",
       "        vertical-align: middle;\n",
       "    }\n",
       "\n",
       "    .dataframe tbody tr th {\n",
       "        vertical-align: top;\n",
       "    }\n",
       "\n",
       "    .dataframe thead th {\n",
       "        text-align: right;\n",
       "    }\n",
       "</style>\n",
       "<table border=\"1\" class=\"dataframe\">\n",
       "  <thead>\n",
       "    <tr style=\"text-align: right;\">\n",
       "      <th></th>\n",
       "      <th>Date</th>\n",
       "      <th>Newz_Headline</th>\n",
       "      <th>Newz_Brief</th>\n",
       "      <th>Source</th>\n",
       "    </tr>\n",
       "  </thead>\n",
       "  <tbody>\n",
       "    <tr>\n",
       "      <th>0</th>\n",
       "      <td>NaN</td>\n",
       "      <td>Apple Stays on Top for Phone Sales in China</td>\n",
       "      <td>Apple secured the top spot for phone sales in ...</td>\n",
       "      <td>The</td>\n",
       "    </tr>\n",
       "    <tr>\n",
       "      <th>1</th>\n",
       "      <td>hours 13 ago</td>\n",
       "      <td>S&amp;P 500, Dow Close Lower, But Media Stocks Sup...</td>\n",
       "      <td>By Yasin Ebrahim Investing.com – The S&amp;P 500 a...</td>\n",
       "      <td>Investing.com</td>\n",
       "    </tr>\n",
       "    <tr>\n",
       "      <th>2</th>\n",
       "      <td>NaN</td>\n",
       "      <td>Apple’s new fix-it policy is a drop in the buc...</td>\n",
       "      <td>CNBC spoke with iFixit CEO Kyle Wiens before A...</td>\n",
       "      <td>CNBC</td>\n",
       "    </tr>\n",
       "    <tr>\n",
       "      <th>3</th>\n",
       "      <td>hours 21 ago</td>\n",
       "      <td>Hong Kong court denies bail to former Stand Ne...</td>\n",
       "      <td>By Clare Jim and Sara Cheng HONG KONG (Reuters...</td>\n",
       "      <td>Reuters</td>\n",
       "    </tr>\n",
       "    <tr>\n",
       "      <th>4</th>\n",
       "      <td>NaN</td>\n",
       "      <td>ProShares Metaverse ETF To Track Meta, Apple, ...</td>\n",
       "      <td>In late November 2021, two Canadian metaverse ...</td>\n",
       "      <td>CryptoVibes</td>\n",
       "    </tr>\n",
       "  </tbody>\n",
       "</table>\n",
       "</div>"
      ],
      "text/plain": [
       "           Date                                      Newz_Headline  \\\n",
       "0           NaN        Apple Stays on Top for Phone Sales in China   \n",
       "1  hours 13 ago  S&P 500, Dow Close Lower, But Media Stocks Sup...   \n",
       "2           NaN  Apple’s new fix-it policy is a drop in the buc...   \n",
       "3  hours 21 ago  Hong Kong court denies bail to former Stand Ne...   \n",
       "4           NaN  ProShares Metaverse ETF To Track Meta, Apple, ...   \n",
       "\n",
       "                                          Newz_Brief         Source  \n",
       "0  Apple secured the top spot for phone sales in ...            The  \n",
       "1  By Yasin Ebrahim Investing.com – The S&P 500 a...  Investing.com  \n",
       "2  CNBC spoke with iFixit CEO Kyle Wiens before A...           CNBC  \n",
       "3  By Clare Jim and Sara Cheng HONG KONG (Reuters...        Reuters  \n",
       "4  In late November 2021, two Canadian metaverse ...    CryptoVibes  "
      ]
     },
     "execution_count": 196,
     "metadata": {},
     "output_type": "execute_result"
    }
   ],
   "source": [
    "#To check if data has been loaded properly\n",
    "aapl_newz.head()"
   ]
  },
  {
   "cell_type": "code",
   "execution_count": 197,
   "id": "a4fe5379",
   "metadata": {},
   "outputs": [],
   "source": [
    "#removing null values from Date columns & changing \"hours ago\" to date\n",
    "aapl_newz = aapl_newz.drop(aapl_newz.index[aapl_newz['Date'].isnull()])\n",
    "aapl_newz = aapl_newz.replace([\"hours 13 ago\",\"hours 21 ago\"],\"31-Dec-21\")"
   ]
  },
  {
   "cell_type": "code",
   "execution_count": 198,
   "id": "3ee19df9",
   "metadata": {},
   "outputs": [
    {
     "data": {
      "text/plain": [
       "Date             datetime64[ns]\n",
       "Newz_Headline            object\n",
       "Newz_Brief               object\n",
       "Source                   object\n",
       "dtype: object"
      ]
     },
     "execution_count": 198,
     "metadata": {},
     "output_type": "execute_result"
    }
   ],
   "source": [
    "aapl_newz['Date'] = pd.to_datetime(aapl_newz['Date'])\n",
    "aapl_newz.dtypes"
   ]
  },
  {
   "cell_type": "code",
   "execution_count": 199,
   "id": "a59ca8f8",
   "metadata": {},
   "outputs": [
    {
     "data": {
      "text/html": [
       "<div>\n",
       "<style scoped>\n",
       "    .dataframe tbody tr th:only-of-type {\n",
       "        vertical-align: middle;\n",
       "    }\n",
       "\n",
       "    .dataframe tbody tr th {\n",
       "        vertical-align: top;\n",
       "    }\n",
       "\n",
       "    .dataframe thead th {\n",
       "        text-align: right;\n",
       "    }\n",
       "</style>\n",
       "<table border=\"1\" class=\"dataframe\">\n",
       "  <thead>\n",
       "    <tr style=\"text-align: right;\">\n",
       "      <th></th>\n",
       "      <th>Date</th>\n",
       "      <th>Newz_Headline</th>\n",
       "      <th>Newz_Brief</th>\n",
       "      <th>Source</th>\n",
       "    </tr>\n",
       "  </thead>\n",
       "  <tbody>\n",
       "    <tr>\n",
       "      <th>1</th>\n",
       "      <td>2021-12-31</td>\n",
       "      <td>S&amp;P 500, Dow Close Lower, But Media Stocks Sup...</td>\n",
       "      <td>By Yasin Ebrahim Investing.com – The S&amp;P 500 a...</td>\n",
       "      <td>Investing.com</td>\n",
       "    </tr>\n",
       "    <tr>\n",
       "      <th>3</th>\n",
       "      <td>2021-12-31</td>\n",
       "      <td>Hong Kong court denies bail to former Stand Ne...</td>\n",
       "      <td>By Clare Jim and Sara Cheng HONG KONG (Reuters...</td>\n",
       "      <td>Reuters</td>\n",
       "    </tr>\n",
       "    <tr>\n",
       "      <th>7</th>\n",
       "      <td>2021-12-30</td>\n",
       "      <td>2021: The Year in Review</td>\n",
       "      <td>By Peter Nurse, Liz Moyer, Sam Boughedda and Y...</td>\n",
       "      <td>Investing.com</td>\n",
       "    </tr>\n",
       "    <tr>\n",
       "      <th>8</th>\n",
       "      <td>2021-12-30</td>\n",
       "      <td>Women force change at Indian iPhone plant, sic...</td>\n",
       "      <td>By Sudarshan Varadhan, A. Ananthalakshmi and A...</td>\n",
       "      <td>Reuters</td>\n",
       "    </tr>\n",
       "    <tr>\n",
       "      <th>10</th>\n",
       "      <td>2021-12-30</td>\n",
       "      <td>U.S. calls on China and Hong Kong to release S...</td>\n",
       "      <td>WASHINGTON (Reuters) - U.S. Secretary of State...</td>\n",
       "      <td>Reuters</td>\n",
       "    </tr>\n",
       "  </tbody>\n",
       "</table>\n",
       "</div>"
      ],
      "text/plain": [
       "         Date                                      Newz_Headline  \\\n",
       "1  2021-12-31  S&P 500, Dow Close Lower, But Media Stocks Sup...   \n",
       "3  2021-12-31  Hong Kong court denies bail to former Stand Ne...   \n",
       "7  2021-12-30                           2021: The Year in Review   \n",
       "8  2021-12-30  Women force change at Indian iPhone plant, sic...   \n",
       "10 2021-12-30  U.S. calls on China and Hong Kong to release S...   \n",
       "\n",
       "                                           Newz_Brief         Source  \n",
       "1   By Yasin Ebrahim Investing.com – The S&P 500 a...  Investing.com  \n",
       "3   By Clare Jim and Sara Cheng HONG KONG (Reuters...        Reuters  \n",
       "7   By Peter Nurse, Liz Moyer, Sam Boughedda and Y...  Investing.com  \n",
       "8   By Sudarshan Varadhan, A. Ananthalakshmi and A...        Reuters  \n",
       "10  WASHINGTON (Reuters) - U.S. Secretary of State...        Reuters  "
      ]
     },
     "execution_count": 199,
     "metadata": {},
     "output_type": "execute_result"
    }
   ],
   "source": [
    "aapl_newz.head()"
   ]
  },
  {
   "cell_type": "code",
   "execution_count": 200,
   "id": "6a0c6bab",
   "metadata": {},
   "outputs": [
    {
     "data": {
      "text/plain": [
       "(10481, 12)"
      ]
     },
     "execution_count": 200,
     "metadata": {},
     "output_type": "execute_result"
    }
   ],
   "source": [
    "aapl_combined = aapl_price.merge(aapl_newz, how = 'left', left_on = 'Date', right_on = 'Date')\n",
    "aapl_combined.shape"
   ]
  },
  {
   "cell_type": "code",
   "execution_count": 201,
   "id": "10b2ad6c",
   "metadata": {},
   "outputs": [
    {
     "data": {
      "text/plain": [
       "Date                       0\n",
       "Open                       0\n",
       "High                       0\n",
       "Low                        0\n",
       "Close                      0\n",
       "Adj Close                  0\n",
       "Volume                     0\n",
       "fut_change_stock_price     0\n",
       "Pos/Neg_fut_Change         0\n",
       "Newz_Headline             67\n",
       "Newz_Brief                67\n",
       "Source                    67\n",
       "dtype: int64"
      ]
     },
     "execution_count": 201,
     "metadata": {},
     "output_type": "execute_result"
    }
   ],
   "source": [
    "aapl_combined.isnull().sum()"
   ]
  },
  {
   "cell_type": "code",
   "execution_count": 202,
   "id": "e6bca3be",
   "metadata": {},
   "outputs": [],
   "source": [
    "aapl_combined = aapl_combined.dropna()"
   ]
  },
  {
   "cell_type": "code",
   "execution_count": 203,
   "id": "81e5c469",
   "metadata": {},
   "outputs": [
    {
     "name": "stdout",
     "output_type": "stream",
     "text": [
      "Date                      0\n",
      "Open                      0\n",
      "High                      0\n",
      "Low                       0\n",
      "Close                     0\n",
      "Adj Close                 0\n",
      "Volume                    0\n",
      "fut_change_stock_price    0\n",
      "Pos/Neg_fut_Change        0\n",
      "Newz_Headline             0\n",
      "Newz_Brief                0\n",
      "Source                    0\n",
      "dtype: int64\n",
      "(10414, 12)\n"
     ]
    }
   ],
   "source": [
    "print(aapl_combined.isnull().sum())\n",
    "print(aapl_combined.shape)"
   ]
  },
  {
   "cell_type": "code",
   "execution_count": 204,
   "id": "f898a472",
   "metadata": {},
   "outputs": [],
   "source": [
    "aapl_combined.to_csv(\"AAPL_Combined.csv\", index = False)"
   ]
  },
  {
   "cell_type": "code",
   "execution_count": null,
   "id": "cac124d8",
   "metadata": {},
   "outputs": [],
   "source": []
  },
  {
   "cell_type": "code",
   "execution_count": null,
   "id": "79d83b9b",
   "metadata": {},
   "outputs": [],
   "source": [
    "#conda install gensim\n",
    "import gensim\n",
    "from gensim import corpora"
   ]
  },
  {
   "cell_type": "code",
   "execution_count": null,
   "id": "c52cd3d1",
   "metadata": {},
   "outputs": [],
   "source": [
    "#Preparing Document-Term Matrix\n",
    "\n",
    "# Creating the term dictionary of our corpus, where every unique term is assigned an index. \n",
    "dictionary = corpora.Dictionary(doc_clean)\n",
    "\n",
    "# Converting list of documents (corpus) into Document Term Matrix using dictionary prepared above.\n",
    "doc_term_matrix = [dictionary.doc2bow(doc) for doc in doc_clean]\n",
    "\n",
    "\"\"\"Run LDA model\"\"\"\n",
    "\n",
    "#Running LDA Model\n",
    "# Creating the object for LDA model using gensim library\n",
    "Lda = gensim.models.ldamodel.LdaModel\n",
    "\n",
    "# Running and Training LDA model on the document term matrix.\n",
    "ldamodel = Lda(doc_term_matrix, num_topics=10, id2word = dictionary, passes=50)\n",
    "\n",
    "\"\"\"Print 10 topics\"\"\"\n",
    "\n",
    "print(\"Topic 1\")\n",
    "print(ldamodel.print_topics(num_topics=10, num_words=50)[0])\n",
    "print(\"Topic 2\")\n",
    "print(ldamodel.print_topics(num_topics=10, num_words=50)[1])\n",
    "print(\"Topic 3\")\n",
    "print(ldamodel.print_topics(num_topics=10, num_words=50)[2])\n",
    "print(\"Topic 4\")\n",
    "print(ldamodel.print_topics(num_topics=10, num_words=50)[3])\n",
    "print(\"Topic 5\")\n",
    "print(ldamodel.print_topics(num_topics=10, num_words=50)[4])\n",
    "print(\"Topic 6\")\n",
    "print(ldamodel.print_topics(num_topics=10, num_words=50)[5])\n",
    "print(\"Topic 7\")\n",
    "print(ldamodel.print_topics(num_topics=10, num_words=50)[6])\n",
    "print(\"Topic 8\")\n",
    "print(ldamodel.print_topics(num_topics=10, num_words=50)[7])\n",
    "print(\"Topic 9\")\n",
    "print(ldamodel.print_topics(num_topics=10, num_words=50)[8])\n",
    "print(\"Topic 10\")\n",
    "print(ldamodel.print_topics(num_topics=10, num_words=50)[9])"
   ]
  },
  {
   "cell_type": "code",
   "execution_count": null,
   "id": "0937a8f8",
   "metadata": {},
   "outputs": [],
   "source": []
  }
 ],
 "metadata": {
  "kernelspec": {
   "display_name": "Python 3 (ipykernel)",
   "language": "python",
   "name": "python3"
  },
  "language_info": {
   "codemirror_mode": {
    "name": "ipython",
    "version": 3
   },
   "file_extension": ".py",
   "mimetype": "text/x-python",
   "name": "python",
   "nbconvert_exporter": "python",
   "pygments_lexer": "ipython3",
   "version": "3.9.7"
  }
 },
 "nbformat": 4,
 "nbformat_minor": 5
}
